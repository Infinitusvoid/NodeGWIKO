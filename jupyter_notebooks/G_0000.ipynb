{
 "cells": [
  {
   "cell_type": "code",
   "execution_count": 23,
   "id": "bc6bdd78-5898-4360-912b-d437c401847c",
   "metadata": {},
   "outputs": [
    {
     "name": "stdout",
     "output_type": "stream",
     "text": [
      "gwiko reloaded successfully.\n",
      "gwiko_generate reloaded successfully.\n",
      "Folder 'C:\\Users\\Cosmos\\Desktop\\output\\tmp' already exists.\n",
      "Folder 'C:\\Users\\Cosmos\\Desktop\\output\\tmp\\output' already exists.\n",
      "Folder 'C:\\Users\\Cosmos\\Desktop\\output\\tmp\\input' already exists.\n",
      "int int_frame = 0;\n",
      "void main(){\n",
      "  ivec2 pixel_coords = ivec2(gl_GlobalInvocationID.xy);\n",
      "  vec4 color = vec4(pixel_coords.x / 1920.0, pixel_coords.y / 1080.0, 0.0, 1.0);\n",
      "  color.g = color.g + float(int_frame) * 0.01;\n",
      "  color.r *= 0.74;\n",
      "  imageStore(out0, pixel_coords, color);\n",
      "}\n",
      "\n",
      "JSON data saved to: C:\\Users\\Cosmos\\Desktop\\output\\tmp\\input/program.json\n",
      "File C:\\Users\\Cosmos\\Desktop\\output\\tmp\\output\\out_0.png deleted successfully.\n",
      "File C:\\Users\\Cosmos\\Desktop\\output\\tmp\\output\\generated_shader.glsl.png does not exist.\n",
      "File C:\\Users\\Cosmos\\Desktop\\output\\tmp\\output\\log.txt deleted successfully.\n",
      "Image loaded successfully.\n"
     ]
    },
    {
     "ename": "NameError",
     "evalue": "name 'output_folder_path' is not defined",
     "output_type": "error",
     "traceback": [
      "\u001b[1;31m---------------------------------------------------------------------------\u001b[0m",
      "\u001b[1;31mNameError\u001b[0m                                 Traceback (most recent call last)",
      "Cell \u001b[1;32mIn[23], line 30\u001b[0m\n\u001b[0;32m     26\u001b[0m w\u001b[38;5;241m.\u001b[39madd(\u001b[38;5;124m\"\u001b[39m\u001b[38;5;124m}\u001b[39m\u001b[38;5;130;01m\\n\u001b[39;00m\u001b[38;5;124m\"\u001b[39m)\n\u001b[0;32m     28\u001b[0m \u001b[38;5;28mprint\u001b[39m(w\u001b[38;5;241m.\u001b[39mget_str())\n\u001b[1;32m---> 30\u001b[0m \u001b[43mg\u001b[49m\u001b[38;5;241;43m.\u001b[39;49m\u001b[43mgenerate\u001b[49m\u001b[43m(\u001b[49m\u001b[43mw\u001b[49m\u001b[38;5;241;43m.\u001b[39;49m\u001b[43mget_str\u001b[49m\u001b[43m(\u001b[49m\u001b[43m)\u001b[49m\u001b[43m,\u001b[49m\u001b[43m \u001b[49m\u001b[38;5;28;43;01mTrue\u001b[39;49;00m\u001b[43m)\u001b[49m\n",
      "File \u001b[1;32m~\\Documents\\GitHub\\NodeGWIKO\\jupyter_notebooks\\gwiko_generate.py:80\u001b[0m, in \u001b[0;36mGenerate.generate\u001b[1;34m(self, source, print_to_screen)\u001b[0m\n\u001b[0;32m     78\u001b[0m image_out_0 \u001b[38;5;241m=\u001b[39m gwiko\u001b[38;5;241m.\u001b[39mpil2tensor(image_out_0_pil_image)\n\u001b[0;32m     79\u001b[0m \u001b[38;5;28;01mif\u001b[39;00m print_to_screen:\n\u001b[1;32m---> 80\u001b[0m     string_of_glsl_code \u001b[38;5;241m=\u001b[39m gwiko\u001b[38;5;241m.\u001b[39mread_string_from_file(\u001b[38;5;28mstr\u001b[39m(\u001b[43moutput_folder_path\u001b[49m) \u001b[38;5;241m+\u001b[39m \u001b[38;5;124m\"\u001b[39m\u001b[38;5;130;01m\\\\\u001b[39;00m\u001b[38;5;124mgenerated_shader.glsl\u001b[39m\u001b[38;5;124m\"\u001b[39m)\n\u001b[0;32m     81\u001b[0m     \u001b[38;5;28mprint\u001b[39m(string_of_glsl_code)\n\u001b[0;32m     82\u001b[0m     logging_txt \u001b[38;5;241m=\u001b[39m gwiko\u001b[38;5;241m.\u001b[39mread_string_from_file(\u001b[38;5;28mstr\u001b[39m(output_folder_path) \u001b[38;5;241m+\u001b[39m \u001b[38;5;124m\"\u001b[39m\u001b[38;5;130;01m\\\\\u001b[39;00m\u001b[38;5;124mlog.txt\u001b[39m\u001b[38;5;124m\"\u001b[39m)\n",
      "\u001b[1;31mNameError\u001b[0m: name 'output_folder_path' is not defined"
     ]
    }
   ],
   "source": [
    "import gwiko\n",
    "import gwiko_generate\n",
    "\n",
    "gwiko.reload_lib(\"gwiko\")\n",
    "gwiko.reload_lib(\"gwiko_generate\")\n",
    "\n",
    "g = gwiko_generate.Generate(\"C:/Users/Cosmos/Desktop/output/tmp/\")\n",
    "g.set_size(1920, 1080)\n",
    "\n",
    "class Write():\n",
    "    def __init__(self):\n",
    "        self.tokens = []\n",
    "    def add(self, el):\n",
    "        self.tokens.append(el)\n",
    "    def get_str(self):\n",
    "        return \"\".join(self.tokens)\n",
    "\n",
    "w = Write()\n",
    "w.add(\"int int_frame = \" +  str(0) + \";\\n\")\n",
    "w.add(\"void main(){\\n\");\n",
    "w.add(\"  ivec2 pixel_coords = ivec2(gl_GlobalInvocationID.xy);\\n\")\n",
    "w.add(\"  vec4 color = vec4(pixel_coords.x / 1920.0, pixel_coords.y / 1080.0, 0.0, 1.0);\\n\")\n",
    "w.add(\"  color.g = color.g + float(int_frame) * 0.01;\\n\")\n",
    "w.add(\"  color.r *= 0.74;\\n\")\n",
    "w.add(\"  imageStore(out0, pixel_coords, color);\\n\")\n",
    "w.add(\"}\\n\")\n",
    "\n",
    "print(w.get_str())\n",
    "\n",
    "g.generate(w.get_str(), True)"
   ]
  },
  {
   "cell_type": "code",
   "execution_count": null,
   "id": "ed796ef4-ddde-4d52-85ac-43c9b3e01c1f",
   "metadata": {},
   "outputs": [],
   "source": []
  },
  {
   "cell_type": "code",
   "execution_count": null,
   "id": "ae7a767c-36df-4eb5-9fc8-4bb4516c7bd2",
   "metadata": {},
   "outputs": [],
   "source": []
  },
  {
   "cell_type": "code",
   "execution_count": null,
   "id": "c06fb054-986d-4304-9bd3-d9f76d0106e1",
   "metadata": {},
   "outputs": [],
   "source": []
  },
  {
   "cell_type": "code",
   "execution_count": null,
   "id": "881c3cff-6ccc-47d9-ba32-f6030070c323",
   "metadata": {},
   "outputs": [],
   "source": []
  },
  {
   "cell_type": "code",
   "execution_count": null,
   "id": "e00e80ec-d9bb-4bdf-825a-36c7940a9e66",
   "metadata": {},
   "outputs": [],
   "source": []
  },
  {
   "cell_type": "code",
   "execution_count": null,
   "id": "876f1ae2-6e76-49d4-b564-90f54c8388e5",
   "metadata": {},
   "outputs": [],
   "source": []
  }
 ],
 "metadata": {
  "kernelspec": {
   "display_name": "Python 3 (ipykernel)",
   "language": "python",
   "name": "python3"
  },
  "language_info": {
   "codemirror_mode": {
    "name": "ipython",
    "version": 3
   },
   "file_extension": ".py",
   "mimetype": "text/x-python",
   "name": "python",
   "nbconvert_exporter": "python",
   "pygments_lexer": "ipython3",
   "version": "3.8.18"
  }
 },
 "nbformat": 4,
 "nbformat_minor": 5
}
