{
 "cells": [
  {
   "cell_type": "code",
   "execution_count": 56,
   "id": "6ba57b86-b9f0-4182-bb1b-98184c9ae8c2",
   "metadata": {},
   "outputs": [],
   "source": [
    "from pathlib import Path\n",
    "from PIL import Image, ImageDraw, ImageFont\n",
    "#from torchvision import transforms\n",
    "\n",
    "from IPython.display import display\n",
    "\n",
    "import os\n",
    "import numpy as np\n",
    "import torch\n",
    "import subprocess\n",
    "import json\n",
    "\n",
    "\n",
    "import gwiko"
   ]
  },
  {
   "cell_type": "code",
   "execution_count": 3,
   "id": "89e059c4-255c-42f7-94b9-e523f95d48bc",
   "metadata": {
    "scrolled": true
   },
   "outputs": [
    {
     "name": "stdout",
     "output_type": "stream",
     "text": [
      "Overwriting c_program.c\n"
     ]
    }
   ],
   "source": [
    "%%file c_program.c\n",
    "#include <stdio.h>\n",
    "int main(void)\n",
    "{\n",
    "    printf(\"Hello World this is C\\n\");\n",
    "    return (0);\n",
    "}"
   ]
  },
  {
   "cell_type": "markdown",
   "id": "453b0b1b-dde0-4f56-a5b3-d01c3c3a8fd6",
   "metadata": {},
   "source": [
    "Linux : %%bash  \n",
    "Windows : %%cmd  \n"
   ]
  },
  {
   "cell_type": "code",
   "execution_count": 4,
   "id": "e5c7919b-65e5-4fc1-b2e8-92fd13bb7faf",
   "metadata": {
    "scrolled": true
   },
   "outputs": [
    {
     "name": "stdout",
     "output_type": "stream",
     "text": [
      "Microsoft Windows [Version 10.0.19045.4291]\n",
      "(c) Microsoft Corporation. All rights reserved.\n",
      "\n",
      "(learning_FastAI) C:\\Users\\Cosmos\\Documents\\GitHub\\NodeGWIKO\\jupyter_notebooks>echo \"Hi there\"\n",
      "\"Hi there\"\n",
      "\n",
      "(learning_FastAI) C:\\Users\\Cosmos\\Documents\\GitHub\\NodeGWIKO\\jupyter_notebooks>"
     ]
    }
   ],
   "source": [
    "%%cmd\n",
    "echo \"Hi there\""
   ]
  },
  {
   "cell_type": "markdown",
   "id": "3aaa641b-ca42-4808-ae76-23c2ebdba2d4",
   "metadata": {},
   "source": [
    "To mesure time it take  \n",
    "%%timeit -n 1 -r 1  "
   ]
  },
  {
   "cell_type": "code",
   "execution_count": 5,
   "id": "256a8278-c8cb-4ecf-81c5-62c28c65e815",
   "metadata": {},
   "outputs": [
    {
     "name": "stdout",
     "output_type": "stream",
     "text": [
      "Microsoft Windows [Version 10.0.19045.4291]\n",
      "(c) Microsoft Corporation. All rights reserved.\n",
      "\n",
      "(learning_FastAI) C:\\Users\\Cosmos\\Documents\\GitHub\\NodeGWIKO\\jupyter_notebooks>echo \"Hi there\"\n",
      "\"Hi there\"\n",
      "\n",
      "(learning_FastAI) C:\\Users\\Cosmos\\Documents\\GitHub\\NodeGWIKO\\jupyter_notebooks>15.4 ms ± 0 ns per loop (mean ± std. dev. of 1 run, 1 loop each)\n"
     ]
    }
   ],
   "source": [
    "%%timeit -n 1 -r 1\n",
    "%%cmd\n",
    "echo \"Hi there\""
   ]
  },
  {
   "cell_type": "markdown",
   "id": "30b247a3-d70a-4f4c-93ca-a3a3ea720913",
   "metadata": {},
   "source": [
    "[How to Code in C with a Jupyter Notebook](https://www.youtube.com/watch?v=cWdU9unrlm0)"
   ]
  },
  {
   "cell_type": "markdown",
   "id": "e78241f3-abef-449f-889a-919398b18f26",
   "metadata": {},
   "source": [
    "### Some other magic words \n",
    "[Magic words](https://ipython.readthedocs.io/en/stable/interactive/magics.html)"
   ]
  },
  {
   "cell_type": "code",
   "execution_count": 52,
   "id": "f567ab4d-149d-461d-b9dc-551b39ece764",
   "metadata": {
    "scrolled": true
   },
   "outputs": [
    {
     "name": "stdout",
     "output_type": "stream",
     "text": [
      "gwiko reloaded successfully.\n",
      "Folder 'C:/Users/Cosmos/Desktop/output/tmp/' already exists.\n",
      "yea\n",
      "amVh\n"
     ]
    }
   ],
   "source": [
    "import gwiko\n",
    "gwiko.reload_lib(\"gwiko\")\n",
    "gwiko.create_folder_if_not_exists(\"C:/Users/Cosmos/Desktop/output/tmp/\");\n",
    "gwiko.print_yea()\n",
    "\n",
    "print(gwiko.encode_to_base64(\"jea\"))"
   ]
  },
  {
   "cell_type": "code",
   "execution_count": 53,
   "id": "0da23831-8481-4005-a4a8-b3d3e6a9b11a",
   "metadata": {},
   "outputs": [
    {
     "name": "stdout",
     "output_type": "stream",
     "text": [
      "\n",
      "void main()\n",
      "{\n",
      "    ivec2 pixel_coords = ivec2(gl_GlobalInvocationID.xy);\n",
      "    vec4 color = vec4(pixel_coords.x / 1024.0, pixel_coords.y / 1024.0, 0.0, 1.0);\n",
      "    color.g = color.g + float(int_frame) * 0.01;\n",
      "    imageStore(out0, pixel_coords, color);\n",
      "}\n",
      "    \n",
      "yea\n",
      "JSON data saved to: C:/Users/Cosmos/Desktop/output/tmp/out.json\n"
     ]
    }
   ],
   "source": [
    "def generate():\n",
    "    example_shader  = \"\"\"\n",
    "void main()\n",
    "{\n",
    "    ivec2 pixel_coords = ivec2(gl_GlobalInvocationID.xy);\n",
    "    vec4 color = vec4(pixel_coords.x / 1024.0, pixel_coords.y / 1024.0, 0.0, 1.0);\n",
    "    color.g = color.g + float(int_frame) * 0.01;\n",
    "    imageStore(out0, pixel_coords, color);\n",
    "}\n",
    "    \"\"\"\n",
    "    return example_shader\n",
    "\n",
    "print(generate())\n",
    "\n",
    "gwiko.print_yea()\n",
    "\n",
    "\n",
    "int_image_width = 1024\n",
    "int_image_height = 1024\n",
    "int_local_size_x = 16\n",
    "int_local_size_y = 16\n",
    "\n",
    "input_folder_path = 0\n",
    "output_folder_path = 0\n",
    "input_images_list = []\n",
    "number_of_output_images = 1\n",
    "string_source = gwiko.encode_to_base64(generate())\n",
    "\n",
    "data = {\n",
    "    \"type\": \"NodeGWIKO\",\n",
    "    \"version\" : \"0.1\",\n",
    "    \"width\":int_image_width,\n",
    "    \"height\":int_image_height,\n",
    "    \"local_size\":{\"x\":int_local_size_x, \"y\":int_local_size_y},\n",
    "    \"input_folder\": str(input_folder_path) + \"\\\\\",\n",
    "    \"output_folder\": str(output_folder_path) + \"\\\\\",\n",
    "    \"images_input\": input_images_list,\n",
    "    \"num_images_out\":number_of_output_images,\n",
    "    \"source\" : string_source,\n",
    "}\n",
    "\n",
    "file_path = \"C:/Users/Cosmos/Desktop/output/tmp/out.json\"\n",
    "gwiko.save_json(data, file_path);"
   ]
  },
  {
   "cell_type": "code",
   "execution_count": 59,
   "id": "d6b85c7d-f1df-4eaf-9118-49ed8a22af1e",
   "metadata": {},
   "outputs": [
    {
     "name": "stdout",
     "output_type": "stream",
     "text": [
      "Folder 'C:\\Users\\Cosmos\\Desktop\\output\\tmp' already exists.\n",
      "Folder 'C:\\Users\\Cosmos\\Desktop\\output\\tmp\\output' already exists.\n",
      "Folder 'C:\\Users\\Cosmos\\Desktop\\output\\tmp\\input' already exists.\n",
      "C:\\Users\\Cosmos\\Desktop\\output\\tmp\\input/program.json\n",
      "JSON data saved to: C:\\Users\\Cosmos\\Desktop\\output\\tmp\\input/program.json\n",
      "File C:\\Users\\Cosmos\\Desktop\\output\\tmp\\output\\out_0.png deleted successfully.\n",
      "File C:\\Users\\Cosmos\\Desktop\\output\\tmp\\output\\generated_shader.glsl.png does not exist.\n",
      "File C:\\Users\\Cosmos\\Desktop\\output\\tmp\\output\\log.txt deleted successfully.\n",
      "Image loaded successfully.\n",
      "#version 430\n",
      "layout (local_size_x = 16, local_size_y = 16) in;\n",
      "layout (binding = 0, rgba32f) uniform image2D out0;\n",
      "int int_frame = 0;\n",
      "\n",
      "void main()\n",
      "{\n",
      "    ivec2 pixel_coords = ivec2(gl_GlobalInvocationID.xy);\n",
      "    vec4 color = vec4(pixel_coords.x / 1024.0, pixel_coords.y / 1024.0, 0.0, 1.0);\n",
      "    color.g = color.g + float(int_frame) * 0.01;\n",
      "    imageStore(out0, pixel_coords, color);\n",
      "}\n",
      "    \n",
      "\n",
      "width : 1024\n",
      "height : 1024\n",
      "local_size_x : 16\n",
      "local_size_y : 16\n",
      "number_input_images : 0\n",
      "number_output_images : 1\n",
      "output_folder : C:\\Users\\Cosmos\\Desktop\\output\\tmp\\output\\\n",
      "input_folder : C:\\Users\\Cosmos\\Desktop\\output\\tmp\\input\\\n",
      "\n",
      "tensor([[[[0.0000, 0.0000, 0.0000],\n",
      "          [0.0000, 0.0000, 0.0000],\n",
      "          [0.0000, 0.0000, 0.0000],\n",
      "          ...,\n",
      "          [0.9961, 0.0000, 0.0000],\n",
      "          [0.9961, 0.0000, 0.0000],\n",
      "          [0.9961, 0.0000, 0.0000]],\n",
      "\n",
      "         [[0.0000, 0.0000, 0.0000],\n",
      "          [0.0000, 0.0000, 0.0000],\n",
      "          [0.0000, 0.0000, 0.0000],\n",
      "          ...,\n",
      "          [0.9961, 0.0000, 0.0000],\n",
      "          [0.9961, 0.0000, 0.0000],\n",
      "          [0.9961, 0.0000, 0.0000]],\n",
      "\n",
      "         [[0.0000, 0.0000, 0.0000],\n",
      "          [0.0000, 0.0000, 0.0000],\n",
      "          [0.0000, 0.0000, 0.0000],\n",
      "          ...,\n",
      "          [0.9961, 0.0000, 0.0000],\n",
      "          [0.9961, 0.0000, 0.0000],\n",
      "          [0.9961, 0.0000, 0.0000]],\n",
      "\n",
      "         ...,\n",
      "\n",
      "         [[0.0000, 0.9961, 0.0000],\n",
      "          [0.0000, 0.9961, 0.0000],\n",
      "          [0.0000, 0.9961, 0.0000],\n",
      "          ...,\n",
      "          [0.9961, 0.9961, 0.0000],\n",
      "          [0.9961, 0.9961, 0.0000],\n",
      "          [0.9961, 0.9961, 0.0000]],\n",
      "\n",
      "         [[0.0000, 0.9961, 0.0000],\n",
      "          [0.0000, 0.9961, 0.0000],\n",
      "          [0.0000, 0.9961, 0.0000],\n",
      "          ...,\n",
      "          [0.9961, 0.9961, 0.0000],\n",
      "          [0.9961, 0.9961, 0.0000],\n",
      "          [0.9961, 0.9961, 0.0000]],\n",
      "\n",
      "         [[0.0000, 0.9961, 0.0000],\n",
      "          [0.0000, 0.9961, 0.0000],\n",
      "          [0.0000, 0.9961, 0.0000],\n",
      "          ...,\n",
      "          [0.9961, 0.9961, 0.0000],\n",
      "          [0.9961, 0.9961, 0.0000],\n",
      "          [0.9961, 0.9961, 0.0000]]]])\n"
     ]
    },
    {
     "data": {
      "image/jpeg": "[encoded data removed]",
      "image/png": "[encoded data removed]",
      "text/plain": [
       "<PIL.Image.Image image mode=RGB size=1024x1024>"
      ]
     },
     "metadata": {},
     "output_type": "display_data"
    }
   ],
   "source": [
    "#tmp_folder_path = Path.cwd().joinpath(\"ComfyUI\").joinpath(\"custom_nodes\").joinpath(\"NodeGWIKO\").joinpath(\"tmp\")\n",
    "tmp_folder_path = Path(\"C:/Users/Cosmos/Desktop/output/tmp/\")\n",
    "gwiko.create_folder_if_not_exists(tmp_folder_path)\n",
    "\n",
    "#output_folder_path = Path.cwd().joinpath(\"ComfyUI\").joinpath(\"custom_nodes\").joinpath(\"NodeGWIKO\").joinpath(\"tmp\").joinpath(\"output\")\n",
    "output_folder_path = Path(\"C:/Users/Cosmos/Desktop/output/tmp/output\")\n",
    "gwiko.create_folder_if_not_exists(output_folder_path)\n",
    "\n",
    "#input_folder_path = Path.cwd().joinpath(\"ComfyUI\").joinpath(\"custom_nodes\").joinpath(\"NodeGWIKO\").joinpath(\"tmp\").joinpath(\"input\")\n",
    "input_folder_path = Path(\"C:/Users/Cosmos/Desktop/output/tmp/input\")\n",
    "gwiko.create_folder_if_not_exists(input_folder_path)\n",
    "\n",
    "input_images_list = []\n",
    "\n",
    "number_of_output_images = 1\n",
    "\n",
    "int_frame = 0\n",
    "\n",
    "string_glsl_source  = generate()\n",
    "string_source = \"int int_frame = \" +  str(int_frame) + \";\\n\" + string_glsl_source\n",
    "string_source = gwiko.encode_to_base64(string_source)\n",
    "\n",
    "int_image_width = 1024\n",
    "int_image_height = 1024\n",
    "int_local_size_x = 16\n",
    "int_local_size_y = 16\n",
    "\n",
    "#input_folder_path = 0\n",
    "#output_folder_path = 0\n",
    "input_images_list = []\n",
    "number_of_output_images = 1\n",
    "#string_source = gwiko.encode_to_base64(generate())\n",
    "\n",
    "data = {\n",
    "    \"type\": \"NodeGWIKO\",\n",
    "    \"version\" : \"0.1\",\n",
    "    \"width\":int_image_width,\n",
    "    \"height\":int_image_height,\n",
    "    \"local_size\":{\"x\":int_local_size_x, \"y\":int_local_size_y},\n",
    "    \"input_folder\": str(input_folder_path) + \"\\\\\",\n",
    "    \"output_folder\": str(output_folder_path) + \"\\\\\",\n",
    "    \"images_input\": input_images_list,\n",
    "    \"num_images_out\":number_of_output_images,\n",
    "    \"source\" : string_source,\n",
    "}\n",
    "\n",
    "path_to_program = str(input_folder_path) + \"/program.json\"\n",
    "print(path_to_program)\n",
    "gwiko.save_json(data, path_to_program);\n",
    "\n",
    "gwiko.delete_file_if_exists(str(output_folder_path) + \"\\\\out_0.png\")\n",
    "gwiko.delete_file_if_exists(str(output_folder_path) + \"\\\\generated_shader.glsl.png\")\n",
    "gwiko.delete_file_if_exists(str(output_folder_path) + \"\\\\log.txt\")\n",
    "\n",
    "exe_file_name = \"NodeGWIKO4.exe\";\n",
    "#command = str(Path.cwd().joinpath(\"ComfyUI\").joinpath(\"custom_nodes\").joinpath(\"NodeGWIKO\")) + \"\\\\\" + exe_file_name\n",
    "command = str(Path.cwd().parent) + \"\\\\\" + exe_file_name\n",
    "\n",
    "args = [\"ComfyUI\", gwiko.replace_slash(path_to_program)]\n",
    "print_to_screen = True\n",
    "gwiko.start_process_with_args(command, args, print_to_screen)\n",
    "\n",
    "image_out_0_pil_image = gwiko.load_image(str(output_folder_path) + \"\\\\out_0.png\")\n",
    "image_out_0_pil_image = image_out_0_pil_image.convert(\"RGB\")\n",
    "image_out_0 = gwiko.pil2tensor(image_out_0_pil_image)\n",
    "\n",
    "if print_to_screen:\n",
    "    string_of_glsl_code = gwiko.read_string_from_file(str(output_folder_path) + \"\\\\generated_shader.glsl\")\n",
    "    print(string_of_glsl_code)\n",
    "    logging_txt = gwiko.read_string_from_file(str(output_folder_path) + \"\\\\log.txt\")\n",
    "    print(logging_txt)\n",
    "    print(image_out_0)\n",
    "    display(image_out_0_pil_image)"
   ]
  },
  {
   "cell_type": "code",
   "execution_count": 79,
   "id": "f8b1d216-4816-4fa7-942d-261da6473b3e",
   "metadata": {},
   "outputs": [
    {
     "name": "stdout",
     "output_type": "stream",
     "text": [
      "Folder 'C:\\Users\\Cosmos\\Desktop\\output\\tmp' already exists.\n",
      "Folder 'C:\\Users\\Cosmos\\Desktop\\output\\tmp\\output' already exists.\n",
      "Folder 'C:\\Users\\Cosmos\\Desktop\\output\\tmp\\input' already exists.\n"
     ]
    }
   ],
   "source": [
    "class FolderFileIO():\n",
    "    def __init__(self, folder_path):\n",
    "        #tmp_folder_path = Path.cwd().joinpath(\"ComfyUI\").joinpath(\"custom_nodes\").joinpath(\"NodeGWIKO\").joinpath(\"tmp\")\n",
    "        self.tmp_folder = Path(folder_path)\n",
    "        gwiko.create_folder_if_not_exists(self.tmp_folder)\n",
    "\n",
    "        #output_folder_path = Path.cwd().joinpath(\"ComfyUI\").joinpath(\"custom_nodes\").joinpath(\"NodeGWIKO\").joinpath(\"tmp\").joinpath(\"output\")\n",
    "        self.output_folder = Path(folder_path + \"output\")\n",
    "        gwiko.create_folder_if_not_exists(self.output_folder)\n",
    "\n",
    "        #input_folder_path = Path.cwd().joinpath(\"ComfyUI\").joinpath(\"custom_nodes\").joinpath(\"NodeGWIKO\").joinpath(\"tmp\").joinpath(\"input\")\n",
    "        self.input_folder = Path(folder_path + \"input\")\n",
    "        gwiko.create_folder_if_not_exists(self.input_folder)\n",
    "    def clean(self):\n",
    "        gwiko.create_folder_if_not_exists(self.tmp_folder)\n",
    "        gwiko.create_folder_if_not_exists(self.output_folder)\n",
    "        gwiko.create_folder_if_not_exists(self.input_folder)\n",
    "    def get_path_to_program(self):\n",
    "        return str(input_folder_path) + \"/program.json\"\n",
    "\n",
    "\n",
    "class Generate():\n",
    "    def __init__(self, folder_path):\n",
    "        self.int_image_width = 1024\n",
    "        self.int_image_height = 1024\n",
    "        self.int_local_size_x = 16\n",
    "        self.int_local_size_y = 16\n",
    "\n",
    "        self.input_images_list = []\n",
    "        self.number_of_output_images = 1\n",
    "\n",
    "        self.folders = FolderFileIO(folder_path)\n",
    "    def generate(self, source):\n",
    "        data = {\n",
    "        \"type\": \"NodeGWIKO\",\n",
    "        \"version\" : \"0.1\",\n",
    "        \"width\":self.int_image_width,\n",
    "        \"height\":self.int_image_height,\n",
    "        \"local_size\":{\"x\":self.int_local_size_x, \"y\": self.int_local_size_y},\n",
    "        \"input_folder\": str(self.folders.input_folder) + \"\\\\\",\n",
    "        \"output_folder\": str(self.folders.output_folder) + \"\\\\\",\n",
    "        \"images_input\": self.input_images_list,\n",
    "        \"num_images_out\":self.number_of_output_images,\n",
    "        \"source\" : source,\n",
    "        }\n",
    "        self.path_to_program = str(input_folder_path) + \"/program.json\"\n",
    "g = Generate(\"C:/Users/Cosmos/Desktop/output/tmp/\")\n",
    "g.generate(\"\")"
   ]
  }
 ],
 "metadata": {
  "kernelspec": {
   "display_name": "Python 3 (ipykernel)",
   "language": "python",
   "name": "python3"
  },
  "language_info": {
   "codemirror_mode": {
    "name": "ipython",
    "version": 3
   },
   "file_extension": ".py",
   "mimetype": "text/x-python",
   "name": "python",
   "nbconvert_exporter": "python",
   "pygments_lexer": "ipython3",
   "version": "3.8.18"
  }
 },
 "nbformat": 4,
 "nbformat_minor": 5
}
