{
 "cells": [
  {
   "cell_type": "code",
   "execution_count": 14,
   "id": "6ba57b86-b9f0-4182-bb1b-98184c9ae8c2",
   "metadata": {},
   "outputs": [],
   "source": [
    "from pathlib import Path\n",
    "from PIL import Image, ImageDraw, ImageFont\n",
    "from torchvision import transforms\n",
    "\n",
    "import os\n",
    "import numpy as np\n",
    "import torch\n",
    "import subprocess\n",
    "import json\n",
    "import base64\n",
    "\n",
    "import gwiko"
   ]
  },
  {
   "cell_type": "code",
   "execution_count": 15,
   "id": "3330fb0a-997a-49c6-aadd-da8aaa1cdd7f",
   "metadata": {},
   "outputs": [],
   "source": [
    "def create_folder_if_not_exists(folder_path):\n",
    "    \"\"\"\n",
    "    Creates a folder if it doesn't exist already.\n",
    "\n",
    "    Args:\n",
    "    - folder_path (str): The path of the folder to be created.\n",
    "\n",
    "    Returns:\n",
    "    - None\n",
    "    \"\"\"\n",
    "    if not os.path.exists(folder_path):\n",
    "        os.makedirs(folder_path)\n",
    "        print(f\"Folder '{folder_path}' created.\")\n",
    "    else:\n",
    "        print(f\"Folder '{folder_path}' already exists.\")"
   ]
  },
  {
   "cell_type": "code",
   "execution_count": 16,
   "id": "8c113554-e91c-4700-97b9-46e127997ee9",
   "metadata": {},
   "outputs": [
    {
     "name": "stdout",
     "output_type": "stream",
     "text": [
      "Folder 'C:/Users/Cosmos/Desktop/output/tmp/' already exists.\n"
     ]
    }
   ],
   "source": [
    "create_folder_if_not_exists(\"C:/Users/Cosmos/Desktop/output/tmp/\");"
   ]
  },
  {
   "cell_type": "code",
   "execution_count": 17,
   "id": "49bfe192-0c6d-4773-bccd-fa965c96c7e0",
   "metadata": {},
   "outputs": [],
   "source": [
    "def encode_to_base64(input_string):\n",
    "    # Convert the input string to bytes\n",
    "    input_bytes = input_string.encode('utf-8')\n",
    "    \n",
    "    # Encode the bytes to base64\n",
    "    encoded_bytes = base64.b64encode(input_bytes)\n",
    "    \n",
    "    # Convert the encoded bytes back to a string\n",
    "    encoded_string = encoded_bytes.decode('utf-8')\n",
    "    \n",
    "    return encoded_string\n",
    "\n",
    "#print(encode_to_base64(\"jea\"))"
   ]
  },
  {
   "cell_type": "code",
   "execution_count": 18,
   "id": "367f4820-fc7b-493b-9a5f-d5016b4c7af0",
   "metadata": {},
   "outputs": [],
   "source": [
    "# Function to save JSON to a file\n",
    "def save_json(data, file_path):\n",
    "    with open(file_path, \"w\") as json_file:\n",
    "        json.dump(data, json_file, indent=4)\n",
    "    print(\"JSON data saved to:\", file_path)"
   ]
  },
  {
   "cell_type": "code",
   "execution_count": 19,
   "id": "1b19ef9b-21db-42dd-a9e2-1673a2ec9e79",
   "metadata": {},
   "outputs": [],
   "source": [
    "def start_process_with_args(command, args, no_printing):\n",
    "    try:\n",
    "        # Start the process with the given command and arguments\n",
    "        process = subprocess.Popen([command] + args, stdout=subprocess.PIPE, stderr=subprocess.PIPE)\n",
    "        \n",
    "        # Wait for the process to finish and get its output\n",
    "        stdout, stderr = process.communicate()\n",
    "        \n",
    "        # Decode output bytes to strings\n",
    "        stdout_str = stdout.decode('utf-8')\n",
    "        stderr_str = stderr.decode('utf-8')\n",
    "        \n",
    "        if no_printing:\n",
    "            pass\n",
    "        else:\n",
    "            # Check if there's any error output\n",
    "            if stderr_str:\n",
    "                print(\"Error occurred:\", stderr_str)\n",
    "            else:\n",
    "                print(\"Process output:\", stdout_str)\n",
    "    \n",
    "    except Exception as e:\n",
    "        print(\"An error occurred:\", str(e))"
   ]
  },
  {
   "cell_type": "code",
   "execution_count": 20,
   "id": "dda8da1a-b6d2-4fec-9c92-1652d992590c",
   "metadata": {},
   "outputs": [],
   "source": [
    "def pil2tensor(image):\n",
    "    return torch.from_numpy(np.array(image).astype(np.float32) / 255.0).unsqueeze(0)"
   ]
  },
  {
   "cell_type": "code",
   "execution_count": 21,
   "id": "d255d63f-4915-4792-9824-d5d1ba28aaf4",
   "metadata": {},
   "outputs": [],
   "source": [
    "def load_image(image_path):\n",
    "    try:\n",
    "        img = Image.open(image_path)\n",
    "        print(\"Image loaded successfully.\")\n",
    "        return img\n",
    "    except FileNotFoundError:\n",
    "        print(\"Error: Image file not found.\")\n",
    "        return None\n",
    "    except Exception as e:\n",
    "        print(f\"Error: Failed to load image - {str(e)}\")\n",
    "        return None"
   ]
  },
  {
   "cell_type": "code",
   "execution_count": 22,
   "id": "e0069883-1a56-48a7-aca3-9359dee75c44",
   "metadata": {},
   "outputs": [],
   "source": [
    "def replace_slash(input_string):\n",
    "    return input_string.replace(\"/\", \"\\\\\")"
   ]
  },
  {
   "cell_type": "code",
   "execution_count": 23,
   "id": "3277f03e-51db-4f6d-9a3d-10b27a7978f6",
   "metadata": {},
   "outputs": [],
   "source": [
    "def tensorToPngImage(image, filepath):\n",
    "    print(\"tensorToPngImage\")\n",
    "    #print(image_input_0)\n",
    "    print(image.size())\n",
    "    assert image.dim() == 4 # \"Tensor must be 4-dimensional\"\n",
    "    assert image.size(0) == 1 # \"First dimension must be 1\"\n",
    "    #assert image_input_0.size(1) == 1024 # \"Second dimension must be 1024\"\n",
    "    #assert image_input_0.size(2) == 1024 # \"Third dimension must be 1024\"\n",
    "    #assert image_input_0.size(3) == 3 # \"Fourth dimension must be 3\"\n",
    "        \n",
    "    #save_tensor_as_png(image_input_0, \"NodeGWIKO_pil_image_saved.png\")\n",
    "    #save_tensor_as_image(image_input_0, \"NodeGWIKO_pil_image_saved_torch_function.png\")\n",
    "    \n",
    "    i = 255. * image.cpu().numpy()\n",
    "    #print(i)\n",
    "    #print(\"shape\", i.shape)\n",
    "    \n",
    "    # Reshape the array\n",
    "    \n",
    "    reshaped_array = i.reshape(image.size(1), image.size(2), image.size(3))\n",
    "    #print(\"reshaped_array.shape\", reshaped_array.shape)\n",
    "    \n",
    "    reshaped_array = np.uint8(reshaped_array)\n",
    "    \n",
    "    # Convert to PIL Image\n",
    "    image = Image.fromarray(reshaped_array)\n",
    "    \n",
    "    # Save as PNG\n",
    "    image.save(filepath)"
   ]
  },
  {
   "cell_type": "code",
   "execution_count": 24,
   "id": "805fa573-b11d-414d-b652-64c3111f8418",
   "metadata": {},
   "outputs": [],
   "source": [
    "def delete_file_if_exists(file_path):\n",
    "    if os.path.exists(file_path):  # Check if the file exists\n",
    "        os.remove(file_path)        # Delete the file\n",
    "        print(f\"File {file_path} deleted successfully.\")\n",
    "    else:\n",
    "        print(f\"File {file_path} does not exist.\")"
   ]
  },
  {
   "cell_type": "code",
   "execution_count": 25,
   "id": "b58c039e-9c0a-42da-8841-d42f221e0c85",
   "metadata": {},
   "outputs": [],
   "source": [
    "def read_string_from_file(file_path):\n",
    "    try:\n",
    "        with open(file_path, 'r') as file:\n",
    "            string_data = file.read()\n",
    "        return string_data\n",
    "    except FileNotFoundError:\n",
    "        print(\"File not found.\")\n",
    "        return None\n",
    "    except Exception as e:\n",
    "        print(\"An error occurred:\", e)\n",
    "        return None"
   ]
  },
  {
   "cell_type": "code",
   "execution_count": 26,
   "id": "3e9bcfc7-20a4-43c7-bd42-eab2043f2df0",
   "metadata": {},
   "outputs": [
    {
     "name": "stdout",
     "output_type": "stream",
     "text": [
      "generate\n",
      "yea\n"
     ]
    }
   ],
   "source": [
    "def generate():\n",
    "    print(\"generate\")\n",
    "\n",
    "generate()\n",
    "\n",
    "gwiko.print_yea()"
   ]
  }
 ],
 "metadata": {
  "kernelspec": {
   "display_name": "Python 3 (ipykernel)",
   "language": "python",
   "name": "python3"
  },
  "language_info": {
   "codemirror_mode": {
    "name": "ipython",
    "version": 3
   },
   "file_extension": ".py",
   "mimetype": "text/x-python",
   "name": "python",
   "nbconvert_exporter": "python",
   "pygments_lexer": "ipython3",
   "version": "3.8.18"
  }
 },
 "nbformat": 4,
 "nbformat_minor": 5
}
