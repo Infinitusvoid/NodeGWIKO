{
 "cells": [
  {
   "cell_type": "code",
   "execution_count": 6,
   "id": "6ba57b86-b9f0-4182-bb1b-98184c9ae8c2",
   "metadata": {},
   "outputs": [],
   "source": [
    "from pathlib import Path\n",
    "from PIL import Image, ImageDraw, ImageFont\n",
    "from torchvision import transforms\n",
    "\n",
    "import os\n",
    "import numpy as np\n",
    "import torch\n",
    "import subprocess\n",
    "import json\n",
    "import base64\n"
   ]
  },
  {
   "cell_type": "code",
   "execution_count": 7,
   "id": "3330fb0a-997a-49c6-aadd-da8aaa1cdd7f",
   "metadata": {},
   "outputs": [],
   "source": [
    "def create_folder_if_not_exists(folder_path):\n",
    "    \"\"\"\n",
    "    Creates a folder if it doesn't exist already.\n",
    "\n",
    "    Args:\n",
    "    - folder_path (str): The path of the folder to be created.\n",
    "\n",
    "    Returns:\n",
    "    - None\n",
    "    \"\"\"\n",
    "    if not os.path.exists(folder_path):\n",
    "        os.makedirs(folder_path)\n",
    "        print(f\"Folder '{folder_path}' created.\")\n",
    "    else:\n",
    "        print(f\"Folder '{folder_path}' already exists.\")"
   ]
  },
  {
   "cell_type": "code",
   "execution_count": 9,
   "id": "8c113554-e91c-4700-97b9-46e127997ee9",
   "metadata": {},
   "outputs": [
    {
     "name": "stdout",
     "output_type": "stream",
     "text": [
      "Folder 'C:/Users/Cosmos/Desktop/output/tmp/' created.\n"
     ]
    }
   ],
   "source": [
    "create_folder_if_not_exists(\"C:/Users/Cosmos/Desktop/output/tmp/\");"
   ]
  },
  {
   "cell_type": "code",
   "execution_count": 11,
   "id": "49bfe192-0c6d-4773-bccd-fa965c96c7e0",
   "metadata": {},
   "outputs": [],
   "source": [
    "def encode_to_base64(input_string):\n",
    "    # Convert the input string to bytes\n",
    "    input_bytes = input_string.encode('utf-8')\n",
    "    \n",
    "    # Encode the bytes to base64\n",
    "    encoded_bytes = base64.b64encode(input_bytes)\n",
    "    \n",
    "    # Convert the encoded bytes back to a string\n",
    "    encoded_string = encoded_bytes.decode('utf-8')\n",
    "    \n",
    "    return encoded_string\n",
    "\n",
    "#print(encode_to_base64(\"jea\"))"
   ]
  },
  {
   "cell_type": "code",
   "execution_count": 12,
   "id": "367f4820-fc7b-493b-9a5f-d5016b4c7af0",
   "metadata": {},
   "outputs": [],
   "source": [
    "# Function to save JSON to a file\n",
    "def save_json(data, file_path):\n",
    "    with open(file_path, \"w\") as json_file:\n",
    "        json.dump(data, json_file, indent=4)\n",
    "    print(\"JSON data saved to:\", file_path)"
   ]
  },
  {
   "cell_type": "code",
   "execution_count": 14,
   "id": "1b19ef9b-21db-42dd-a9e2-1673a2ec9e79",
   "metadata": {},
   "outputs": [],
   "source": [
    "def start_process_with_args(command, args, no_printing):\n",
    "    try:\n",
    "        # Start the process with the given command and arguments\n",
    "        process = subprocess.Popen([command] + args, stdout=subprocess.PIPE, stderr=subprocess.PIPE)\n",
    "        \n",
    "        # Wait for the process to finish and get its output\n",
    "        stdout, stderr = process.communicate()\n",
    "        \n",
    "        # Decode output bytes to strings\n",
    "        stdout_str = stdout.decode('utf-8')\n",
    "        stderr_str = stderr.decode('utf-8')\n",
    "        \n",
    "        if no_printing:\n",
    "            pass\n",
    "        else:\n",
    "            # Check if there's any error output\n",
    "            if stderr_str:\n",
    "                print(\"Error occurred:\", stderr_str)\n",
    "            else:\n",
    "                print(\"Process output:\", stdout_str)\n",
    "    \n",
    "    except Exception as e:\n",
    "        print(\"An error occurred:\", str(e))"
   ]
  },
  {
   "cell_type": "code",
   "execution_count": 15,
   "id": "dda8da1a-b6d2-4fec-9c92-1652d992590c",
   "metadata": {},
   "outputs": [],
   "source": [
    "def pil2tensor(image):\n",
    "    return torch.from_numpy(np.array(image).astype(np.float32) / 255.0).unsqueeze(0)"
   ]
  },
  {
   "cell_type": "code",
   "execution_count": 16,
   "id": "d255d63f-4915-4792-9824-d5d1ba28aaf4",
   "metadata": {},
   "outputs": [],
   "source": [
    "def load_image(image_path):\n",
    "    try:\n",
    "        img = Image.open(image_path)\n",
    "        print(\"Image loaded successfully.\")\n",
    "        return img\n",
    "    except FileNotFoundError:\n",
    "        print(\"Error: Image file not found.\")\n",
    "        return None\n",
    "    except Exception as e:\n",
    "        print(f\"Error: Failed to load image - {str(e)}\")\n",
    "        return None"
   ]
  },
  {
   "cell_type": "code",
   "execution_count": 17,
   "id": "e0069883-1a56-48a7-aca3-9359dee75c44",
   "metadata": {},
   "outputs": [],
   "source": [
    "def replace_slash(input_string):\n",
    "    return input_string.replace(\"/\", \"\\\\\")"
   ]
  }
 ],
 "metadata": {
  "kernelspec": {
   "display_name": "Python 3 (ipykernel)",
   "language": "python",
   "name": "python3"
  },
  "language_info": {
   "codemirror_mode": {
    "name": "ipython",
    "version": 3
   },
   "file_extension": ".py",
   "mimetype": "text/x-python",
   "name": "python",
   "nbconvert_exporter": "python",
   "pygments_lexer": "ipython3",
   "version": "3.8.18"
  }
 },
 "nbformat": 4,
 "nbformat_minor": 5
}
