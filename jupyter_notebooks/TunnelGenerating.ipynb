{
 "cells": [
  {
   "cell_type": "code",
   "execution_count": 15,
   "id": "6ba57b86-b9f0-4182-bb1b-98184c9ae8c2",
   "metadata": {},
   "outputs": [],
   "source": [
    "from pathlib import Path\n",
    "from PIL import Image, ImageDraw, ImageFont\n",
    "from torchvision import transforms\n",
    "\n",
    "import os\n",
    "import numpy as np\n",
    "import torch\n",
    "import subprocess\n",
    "import json\n",
    "\n",
    "\n",
    "import gwiko"
   ]
  },
  {
   "cell_type": "code",
   "execution_count": 11,
   "id": "89e059c4-255c-42f7-94b9-e523f95d48bc",
   "metadata": {
    "scrolled": true
   },
   "outputs": [
    {
     "name": "stdout",
     "output_type": "stream",
     "text": [
      "Overwriting c_program.c\n"
     ]
    }
   ],
   "source": [
    "%%file c_program.c\n",
    "#include <stdio.h>\n",
    "int main(void)\n",
    "{\n",
    "    printf(\"Hello World this is C\\n\");\n",
    "    return (0);\n",
    "}"
   ]
  },
  {
   "cell_type": "markdown",
   "id": "453b0b1b-dde0-4f56-a5b3-d01c3c3a8fd6",
   "metadata": {},
   "source": [
    "Linux : %%bash  \n",
    "Windows : %%cmd  \n"
   ]
  },
  {
   "cell_type": "code",
   "execution_count": 12,
   "id": "e5c7919b-65e5-4fc1-b2e8-92fd13bb7faf",
   "metadata": {
    "scrolled": true
   },
   "outputs": [
    {
     "name": "stdout",
     "output_type": "stream",
     "text": [
      "Microsoft Windows [Version 10.0.19045.4291]\n",
      "(c) Microsoft Corporation. All rights reserved.\n",
      "\n",
      "(learning_FastAI) C:\\Users\\Cosmos\\Documents\\GitHub\\NodeGWIKO\\jupyter_notebooks>echo \"Hi there\"\n",
      "\"Hi there\"\n",
      "\n",
      "(learning_FastAI) C:\\Users\\Cosmos\\Documents\\GitHub\\NodeGWIKO\\jupyter_notebooks>"
     ]
    }
   ],
   "source": [
    "%%cmd\n",
    "echo \"Hi there\""
   ]
  },
  {
   "cell_type": "markdown",
   "id": "3aaa641b-ca42-4808-ae76-23c2ebdba2d4",
   "metadata": {},
   "source": [
    "To mesure time it take  \n",
    "%%timeit -n 1 -r 1  "
   ]
  },
  {
   "cell_type": "code",
   "execution_count": 13,
   "id": "256a8278-c8cb-4ecf-81c5-62c28c65e815",
   "metadata": {},
   "outputs": [
    {
     "name": "stdout",
     "output_type": "stream",
     "text": [
      "Microsoft Windows [Version 10.0.19045.4291]\n",
      "(c) Microsoft Corporation. All rights reserved.\n",
      "\n",
      "(learning_FastAI) C:\\Users\\Cosmos\\Documents\\GitHub\\NodeGWIKO\\jupyter_notebooks>echo \"Hi there\"\n",
      "\"Hi there\"\n",
      "\n",
      "(learning_FastAI) C:\\Users\\Cosmos\\Documents\\GitHub\\NodeGWIKO\\jupyter_notebooks>15.7 ms ± 0 ns per loop (mean ± std. dev. of 1 run, 1 loop each)\n"
     ]
    }
   ],
   "source": [
    "%%timeit -n 1 -r 1\n",
    "%%cmd\n",
    "echo \"Hi there\""
   ]
  },
  {
   "cell_type": "markdown",
   "id": "30b247a3-d70a-4f4c-93ca-a3a3ea720913",
   "metadata": {},
   "source": [
    "[How to Code in C with a Jupyter Notebook](https://www.youtube.com/watch?v=cWdU9unrlm0)"
   ]
  },
  {
   "cell_type": "markdown",
   "id": "e78241f3-abef-449f-889a-919398b18f26",
   "metadata": {},
   "source": [
    "### Some other magic words \n",
    "[Magic words](https://ipython.readthedocs.io/en/stable/interactive/magics.html)"
   ]
  },
  {
   "cell_type": "code",
   "execution_count": 4,
   "id": "f567ab4d-149d-461d-b9dc-551b39ece764",
   "metadata": {
    "scrolled": true
   },
   "outputs": [
    {
     "name": "stdout",
     "output_type": "stream",
     "text": [
      "gwiko reloaded successfully.\n",
      "Folder 'C:/Users/Cosmos/Desktop/output/tmp/nice' already exists.\n",
      "yea\n",
      "amVh\n"
     ]
    }
   ],
   "source": [
    "import gwiko\n",
    "gwiko.reload_lib(\"gwiko\")\n",
    "gwiko.create_folder_if_not_exists(\"C:/Users/Cosmos/Desktop/output/tmp/\");\n",
    "gwiko.print_yea()\n",
    "\n",
    "print(gwiko.encode_to_base64(\"jea\"))"
   ]
  },
  {
   "cell_type": "code",
   "execution_count": 3,
   "id": "0da23831-8481-4005-a4a8-b3d3e6a9b11a",
   "metadata": {},
   "outputs": [
    {
     "name": "stdout",
     "output_type": "stream",
     "text": [
      "generate\n",
      "yea\n"
     ]
    }
   ],
   "source": [
    "def generate():\n",
    "    print(\"generate\")\n",
    "\n",
    "generate()\n",
    "\n",
    "gwiko.print_yea()\n",
    "\n",
    "json = {}\n",
    "file_path = \"C:/Users/Cosmos/Desktop/output/tmp/out.js\"\n",
    "gwiko.save_json(json, \"\""
   ]
  }
 ],
 "metadata": {
  "kernelspec": {
   "display_name": "Python 3 (ipykernel)",
   "language": "python",
   "name": "python3"
  },
  "language_info": {
   "codemirror_mode": {
    "name": "ipython",
    "version": 3
   },
   "file_extension": ".py",
   "mimetype": "text/x-python",
   "name": "python",
   "nbconvert_exporter": "python",
   "pygments_lexer": "ipython3",
   "version": "3.8.18"
  }
 },
 "nbformat": 4,
 "nbformat_minor": 5
}
